{
 "cells": [
  {
   "cell_type": "code",
   "execution_count": 2,
   "id": "0247480b",
   "metadata": {},
   "outputs": [],
   "source": [
    "from dotenv import load_dotenv\n",
    "import os"
   ]
  },
  {
   "cell_type": "code",
   "execution_count": 3,
   "id": "785ded25",
   "metadata": {},
   "outputs": [],
   "source": [
    "load_dotenv()\n",
    "GROQ_API_KEY = os.environ.get(\"GROQ_API_KEY\")"
   ]
  },
  {
   "cell_type": "code",
   "execution_count": 4,
   "id": "91ac6cfb",
   "metadata": {},
   "outputs": [],
   "source": [
    "from langchain.chat_models import init_chat_model\n",
    "\n",
    "model = init_chat_model(\"llama3-8b-8192\", model_provider=\"groq\")"
   ]
  },
  {
   "cell_type": "code",
   "execution_count": 5,
   "id": "b8bdd40f",
   "metadata": {},
   "outputs": [],
   "source": [
    "from langchain_core.prompts import ChatPromptTemplate\n",
    "\n",
    "system_template = \"\"\"\n",
    "You are a highly accurate and concise regex generator. Your task is to convert natural language instructions into valid, efficient, and minimal regular expressions (regex). Follow these guidelines carefully:\n",
    "- Regex Output Only: Respond only with the regular expression pattern unless explicitly asked to explain. Do not include extra commentary, code blocks, or markdown formatting unless requested.\n",
    "- Correctness First: Ensure the regex pattern matches the described behavior exactly and completely. Avoid overgeneralization or underfitting.\n",
    "- Conciseness and Efficiency: Use the simplest regex possible to achieve the described goal. Avoid unnecessary capture groups or verbose constructs.\n",
    "- Common Standards:\n",
    "    - Assume the flavor is ECMAScript (JavaScript) unless specified otherwise.\n",
    "    - Do not anchor with ^ or $ unless clearly required.\n",
    "    - Use non-capturing groups (?:...) when groups are needed but not referenced.\n",
    "- Character Classes & Quantifiers: Use shorthand character classes (\\\\d, \\\\w, \\\\s, etc.) when appropriate. Use greedy or lazy quantifiers as required by the instruction.\n",
    "- Escaping: Properly escape special characters to avoid unintended behavior.\n",
    "- Edge Cases: Handle edge cases if mentioned (e.g., case sensitivity, optional components, boundary conditions).\n",
    "\"\"\"\n",
    "\n",
    "prompt_template = ChatPromptTemplate.from_messages(\n",
    "    [(\"system\", system_template), (\"user\", \"{query}\")]\n",
    ")"
   ]
  },
  {
   "cell_type": "code",
   "execution_count": 6,
   "id": "b82dd90a",
   "metadata": {},
   "outputs": [
    {
     "data": {
      "text/plain": [
       "ChatPromptValue(messages=[SystemMessage(content='\\nYou are a highly accurate and concise regex generator. Your task is to convert natural language instructions into valid, efficient, and minimal regular expressions (regex). Follow these guidelines carefully:\\n- Regex Output Only: Respond only with the regular expression pattern unless explicitly asked to explain. Do not include extra commentary, code blocks, or markdown formatting unless requested.\\n- Correctness First: Ensure the regex pattern matches the described behavior exactly and completely. Avoid overgeneralization or underfitting.\\n- Conciseness and Efficiency: Use the simplest regex possible to achieve the described goal. Avoid unnecessary capture groups or verbose constructs.\\n- Common Standards:\\n    - Assume the flavor is ECMAScript (JavaScript) unless specified otherwise.\\n    - Do not anchor with ^ or $ unless clearly required.\\n    - Use non-capturing groups (?:...) when groups are needed but not referenced.\\n- Character Classes & Quantifiers: Use shorthand character classes (\\\\d, \\\\w, \\\\s, etc.) when appropriate. Use greedy or lazy quantifiers as required by the instruction.\\n- Escaping: Properly escape special characters to avoid unintended behavior.\\n- Edge Cases: Handle edge cases if mentioned (e.g., case sensitivity, optional components, boundary conditions).\\n', additional_kwargs={}, response_metadata={}), HumanMessage(content='Match international phone numbers', additional_kwargs={}, response_metadata={})])"
      ]
     },
     "execution_count": 6,
     "metadata": {},
     "output_type": "execute_result"
    }
   ],
   "source": [
    "prompt = prompt_template.invoke({\"query\": \"Match international phone numbers\"})\n",
    "prompt"
   ]
  },
  {
   "cell_type": "code",
   "execution_count": 7,
   "id": "e0d2f805",
   "metadata": {},
   "outputs": [
    {
     "name": "stdout",
     "output_type": "stream",
     "text": [
      "`(?:\\+?|-?)?\\(?(\\d{1,3})\\)?[-\\s\\.]?(\\d{3})[-\\s\\.]?(\\d{4,5})`\n"
     ]
    }
   ],
   "source": [
    "response = model.invoke(prompt)\n",
    "print(response.content)"
   ]
  },
  {
   "cell_type": "code",
   "execution_count": 8,
   "id": "b90a5e84",
   "metadata": {},
   "outputs": [],
   "source": [
    "system_template = \"\"\"\n",
    "You are a precise and knowledgeable regular expression (regex) explainer. Your role is to convert regex patterns into clear, concise, and accurate natural language explanations. Follow these instructions:\n",
    "- Explain What the Regex Does: Describe the overall function of the pattern in plain language.\n",
    "- Break Down Components: Explain each part or section of the regex, especially if the pattern is complex.\n",
    "- Use Natural Language: Avoid technical jargon unless necessary. Favor readable descriptions over formal syntax.\n",
    "- Be Accurate and Thorough: Ensure every element of the pattern is accounted for and explained correctly.\n",
    "- Be Concise: Keep explanations clear and compact, especially for simple patterns.\n",
    "- No Execution: Do not test or validate regex against data.\n",
    "- Regex Flavor: Assume ECMAScript (JavaScript) flavor unless specified otherwise.\n",
    "- Avoid Over-Explanation: Don't repeat similar parts unnecessarily (e.g., identical groups or ranges).\n",
    "\n",
    "Output format:\n",
    "- For basic use, return a paragraph explanation.\n",
    "- If the pattern is complex, use bullet points or step-by-step breakdowns.\n",
    "\"\"\"\n",
    "\n",
    "prompt_template = ChatPromptTemplate.from_messages(\n",
    "    [(\"system\", system_template), (\"user\", \"{query}\")]\n",
    ")"
   ]
  },
  {
   "cell_type": "code",
   "execution_count": 9,
   "id": "8e673d20",
   "metadata": {},
   "outputs": [
    {
     "data": {
      "text/plain": [
       "ChatPromptValue(messages=[SystemMessage(content=\"\\nYou are a precise and knowledgeable regular expression (regex) explainer. Your role is to convert regex patterns into clear, concise, and accurate natural language explanations. Follow these instructions:\\n- Explain What the Regex Does: Describe the overall function of the pattern in plain language.\\n- Break Down Components: Explain each part or section of the regex, especially if the pattern is complex.\\n- Use Natural Language: Avoid technical jargon unless necessary. Favor readable descriptions over formal syntax.\\n- Be Accurate and Thorough: Ensure every element of the pattern is accounted for and explained correctly.\\n- Be Concise: Keep explanations clear and compact, especially for simple patterns.\\n- No Execution: Do not test or validate regex against data.\\n- Regex Flavor: Assume ECMAScript (JavaScript) flavor unless specified otherwise.\\n- Avoid Over-Explanation: Don't repeat similar parts unnecessarily (e.g., identical groups or ranges).\\n\\nOutput format:\\n- For basic use, return a paragraph explanation.\\n- If the pattern is complex, use bullet points or step-by-step breakdowns.\\n\", additional_kwargs={}, response_metadata={}), HumanMessage(content='\\\\d{1,3}[-.]?\\\\d{1,3}[-.]?\\\\d{1,4}', additional_kwargs={}, response_metadata={})])"
      ]
     },
     "execution_count": 9,
     "metadata": {},
     "output_type": "execute_result"
    }
   ],
   "source": [
    "prompt = prompt_template.invoke({\"query\": r\"\\d{1,3}[-.]?\\d{1,3}[-.]?\\d{1,4}\"})\n",
    "prompt"
   ]
  },
  {
   "cell_type": "code",
   "execution_count": 10,
   "id": "f4244f28",
   "metadata": {},
   "outputs": [
    {
     "name": "stdout",
     "output_type": "stream",
     "text": [
      "This regex pattern matches IP addresses. Here's a breakdown of what it does:\n",
      "\n",
      "* `\\d{1,3}`: This part matches a digit between 1 and 3 times, which represents a number in an IP address (octet).\n",
      "* `[-.]?`: This is a non-capturing group that matches an optional character, either a hyphen (-) or a period (.). This allows for either a dotted decimal notation (e.g., 192.168.1.1) or a dashed notation (e.g., 192-168-1-1).\n",
      "* The pattern is repeated three times, allowing for the matching of three octets in an IP address.\n",
      "\n",
      "In summary, this regex pattern matches IP addresses in either dotted decimal or dashed notation, with each octet being a number between 0 and 255.\n"
     ]
    }
   ],
   "source": [
    "response = model.invoke(prompt)\n",
    "print(response.content)"
   ]
  },
  {
   "cell_type": "code",
   "execution_count": 20,
   "id": "5115dbb1",
   "metadata": {},
   "outputs": [],
   "source": [
    "system_template = \"\"\"\n",
    "You are a clear and simple error explainer. Given a regex and an input text, your job is to:\n",
    "> Identify and describe in plain language the reasons the input text does not match the regex pattern.\n",
    "\n",
    "Guidelines:\n",
    "- Focus only on describing what is wrong or missing in the input text compared to what is expected.\n",
    "- Avoid explaining the regex syntax or details.\n",
    "- Use everyday language, suitable for someone not familiar with regex.\n",
    "- Highlight the first or most important mismatch.\n",
    "- Keep responses short, clear, and actionable.\n",
    "- Do not suggest fixes or corrections unless asked.\n",
    "\n",
    "Input Format:\n",
    "You will be given two inputs:\n",
    "- regex: The regular expression pattern.\n",
    "- text: The input string to test against the regex.\n",
    "\n",
    "Output Format:\n",
    "- Provide a bullet-point list of mismatch explanations\n",
    "\"\"\"\n",
    "\n",
    "prompt_template = ChatPromptTemplate.from_messages(\n",
    "    [(\"system\", system_template), (\"user\", \"Regex: {regex}\\nText: {text}\")]\n",
    ")"
   ]
  },
  {
   "cell_type": "code",
   "execution_count": 23,
   "id": "065e1f67",
   "metadata": {},
   "outputs": [
    {
     "data": {
      "text/plain": [
       "ChatPromptValue(messages=[SystemMessage(content='\\nYou are a clear and simple error explainer. Given a regex and an input text, your job is to:\\n> Identify and describe in plain language the reasons the input text does not match the regex pattern.\\n\\nGuidelines:\\n- Focus only on describing what is wrong or missing in the input text compared to what is expected.\\n- Avoid explaining the regex syntax or details.\\n- Use everyday language, suitable for someone not familiar with regex.\\n- Highlight the first or most important mismatch.\\n- Keep responses short, clear, and actionable.\\n- Do not suggest fixes or corrections unless asked.\\n\\nInput Format:\\nYou will be given two inputs:\\n- regex: The regular expression pattern.\\n- text: The input string to test against the regex.\\n\\nOutput Format:\\n- Provide a bullet-point list of mismatch explanations\\n', additional_kwargs={}, response_metadata={}), HumanMessage(content='Regex: \\\\d{1,3}[-.]?\\\\d{1,3}[-.]?\\\\d{1,4}\\nText: 12-45-6789', additional_kwargs={}, response_metadata={})])"
      ]
     },
     "execution_count": 23,
     "metadata": {},
     "output_type": "execute_result"
    }
   ],
   "source": [
    "prompt = prompt_template.invoke({\"regex\": r\"\\d{1,3}[-.]?\\d{1,3}[-.]?\\d{1,4}\", \"text\": \"12-45-6789\"})\n",
    "prompt"
   ]
  },
  {
   "cell_type": "code",
   "execution_count": 24,
   "id": "cbc8a2b7",
   "metadata": {},
   "outputs": [
    {
     "name": "stdout",
     "output_type": "stream",
     "text": [
      "Here's what's wrong with the input text:\n",
      "\n",
      "• The input text is missing a digit in the first group (it should be 1-3 digits, but it's only 2).\n"
     ]
    }
   ],
   "source": [
    "response = model.invoke(prompt)\n",
    "print(response.content)"
   ]
  },
  {
   "cell_type": "code",
   "execution_count": 37,
   "id": "65dd312f",
   "metadata": {},
   "outputs": [],
   "source": [
    "system_template = \"\"\"\n",
    "You are a skilled regex builder. Given a set of example texts, your task is to:\n",
    "> Generate a regular expression pattern that matches all the given texts and follows their common pattern.\n",
    "\n",
    "Guidelines:\n",
    "- Each line contains one example text.\n",
    "- Analyze the provided texts carefully to find the shared structure or pattern.\n",
    "- Create a regex that matches all the examples, and is as general as possible without matching unrelated strings.\n",
    "- Use common regex constructs such as character classes, quantifiers, groups, and anchors as needed.\n",
    "- Prefer concise and readable regex patterns.\n",
    "- Assume ECMAScript (JavaScript) flavor unless otherwise specified.\n",
    "- Do not include explanations or additional text—output only the regex pattern unless otherwise requested.\n",
    "- If the examples contain variations, reflect those accurately in the regex (e.g., optional parts, alternatives).\n",
    "- Properly escape special characters if they appear literally in the examples.\n",
    "\n",
    "\n",
    "\"\"\"\n",
    "\n",
    "prompt_template = ChatPromptTemplate.from_messages(\n",
    "    [(\"system\", system_template), (\"user\", \"{query}\")]\n",
    ")"
   ]
  },
  {
   "cell_type": "code",
   "execution_count": 38,
   "id": "4e357738",
   "metadata": {},
   "outputs": [
    {
     "data": {
      "text/plain": [
       "ChatPromptValue(messages=[SystemMessage(content='\\nYou are a skilled regex builder. Given a set of example texts, your task is to:\\n> Generate a regular expression pattern that matches all the given texts and follows their common pattern.\\n\\nGuidelines:\\n- Each line contains one example text.\\n- Analyze the provided texts carefully to find the shared structure or pattern.\\n- Create a regex that matches all the examples, and is as general as possible without matching unrelated strings.\\n- Use common regex constructs such as character classes, quantifiers, groups, and anchors as needed.\\n- Prefer concise and readable regex patterns.\\n- Assume ECMAScript (JavaScript) flavor unless otherwise specified.\\n- Do not include explanations or additional text—output only the regex pattern unless otherwise requested.\\n- If the examples contain variations, reflect those accurately in the regex (e.g., optional parts, alternatives).\\n- Properly escape special characters if they appear literally in the examples.\\n\\n\\n', additional_kwargs={}, response_metadata={}), HumanMessage(content='dog123  \\ndog456  \\ndog789', additional_kwargs={}, response_metadata={})])"
      ]
     },
     "execution_count": 38,
     "metadata": {},
     "output_type": "execute_result"
    }
   ],
   "source": [
    "prompt = prompt_template.invoke({\"query\": \"\"\"\n",
    "dog123  \n",
    "dog456  \n",
    "dog789\n",
    "\"\"\".strip()})\n",
    "prompt"
   ]
  },
  {
   "cell_type": "code",
   "execution_count": 39,
   "id": "8a17bb61",
   "metadata": {},
   "outputs": [
    {
     "data": {
      "text/plain": [
       "'hello_world\\nhello_world!\\nhello_world123'"
      ]
     },
     "execution_count": 39,
     "metadata": {},
     "output_type": "execute_result"
    }
   ],
   "source": [
    "\"\"\"\n",
    "hello_world\n",
    "hello_world!\n",
    "hello_world123\n",
    "\"\"\".strip()"
   ]
  },
  {
   "cell_type": "code",
   "execution_count": 40,
   "id": "249bc758",
   "metadata": {},
   "outputs": [
    {
     "name": "stdout",
     "output_type": "stream",
     "text": [
      "\\d{3}dog\n"
     ]
    }
   ],
   "source": [
    "response = model.invoke(prompt)\n",
    "print(response.content)"
   ]
  }
 ],
 "metadata": {
  "kernelspec": {
   "display_name": "env",
   "language": "python",
   "name": "python3"
  },
  "language_info": {
   "codemirror_mode": {
    "name": "ipython",
    "version": 3
   },
   "file_extension": ".py",
   "mimetype": "text/x-python",
   "name": "python",
   "nbconvert_exporter": "python",
   "pygments_lexer": "ipython3",
   "version": "3.13.3"
  }
 },
 "nbformat": 4,
 "nbformat_minor": 5
}
